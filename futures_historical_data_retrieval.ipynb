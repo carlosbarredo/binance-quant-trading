import pandas as pd
import requests

def get_historical_data(symbol, interval, startTime, endTime):
    url = f"https://fapi.binance.com/fapi/v1/klines?symbol={symbol}&interval={interval}&startTime={startTime}&endTime={endTime}"
    response = requests.get(url)
    data = response.json()
    df = pd.DataFrame(data, columns=["Open time", "Open", "High", "Low", "Close", "Volume", "Close time", "Quote asset volume", "Number of trades", "Taker buy base asset volume", "Taker buy quote asset volume", "Ignore"])
    df[["Open time", "Close time"]] = df[["Open time", "Close time"]].astype(int) / 1000
    df.index = pd.to_datetime(df["Open time"], unit='s')
    return df

# Example usage
symbol = "BTCUSDT"
interval = "1h"
startTime = 1609459200000
endTime = 1609459200000 + 24 * 60 * 60 * 1000
df = get_historical_data(symbol, interval, startTime, endTime)
